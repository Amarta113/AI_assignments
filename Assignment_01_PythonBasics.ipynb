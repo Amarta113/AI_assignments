{
  "nbformat": 4,
  "nbformat_minor": 0,
  "metadata": {
    "colab": {
      "provenance": [],
      "authorship_tag": "ABX9TyNygxGqI00WxLoYcu6bZPlh",
      "include_colab_link": true
    },
    "kernelspec": {
      "name": "python3",
      "display_name": "Python 3"
    },
    "language_info": {
      "name": "python"
    }
  },
  "cells": [
    {
      "cell_type": "markdown",
      "metadata": {
        "id": "view-in-github",
        "colab_type": "text"
      },
      "source": [
        "<a href=\"https://colab.research.google.com/github/Amarta113/Amarta113/blob/main/Assignment_01_PythonBasics.ipynb\" target=\"_parent\"><img src=\"https://colab.research.google.com/assets/colab-badge.svg\" alt=\"Open In Colab\"/></a>"
      ]
    },
    {
      "cell_type": "markdown",
      "source": [
        "# **List:**"
      ],
      "metadata": {
        "id": "s9_aEkA8HH5d"
      }
    },
    {
      "cell_type": "markdown",
      "source": [
        "**Create a list named \"fruits\" containing three different fruits and display its items using for loop.**"
      ],
      "metadata": {
        "id": "wJNec2lDK4gY"
      }
    },
    {
      "cell_type": "code",
      "execution_count": null,
      "metadata": {
        "id": "uDIvK_2CJRN3",
        "colab": {
          "base_uri": "https://localhost:8080/"
        },
        "outputId": "6951a033-4d53-4e75-c43f-ca3ed9765b0b"
      },
      "outputs": [
        {
          "output_type": "stream",
          "name": "stdout",
          "text": [
            "Orange\n",
            "Banana\n",
            "Apple\n",
            "Mango\n"
          ]
        }
      ],
      "source": [
        "fruits = [\"Orange\", \"Banana\", \"Apple\", \"Mango\"]\n",
        "\n",
        "for fruit in fruits:\n",
        "  print(fruit)"
      ]
    },
    {
      "cell_type": "markdown",
      "source": [
        "# **Tuple:**"
      ],
      "metadata": {
        "id": "T7XRU4xCHPqv"
      }
    },
    {
      "cell_type": "markdown",
      "source": [
        "**Create a tuple named \"numbers\" with five random numbers and display its item using for loop.**"
      ],
      "metadata": {
        "id": "ItupGZIiRBt_"
      }
    },
    {
      "cell_type": "code",
      "source": [
        "numbers = (1, 2, 3, 4, 5)\n",
        "\n",
        "for number in numbers:\n",
        "  print(number)"
      ],
      "metadata": {
        "id": "RMCLwGIoRBOz",
        "colab": {
          "base_uri": "https://localhost:8080/"
        },
        "outputId": "ea14e52c-8080-429c-f3f5-62e150f16e12"
      },
      "execution_count": null,
      "outputs": [
        {
          "output_type": "stream",
          "name": "stdout",
          "text": [
            "1\n",
            "2\n",
            "3\n",
            "4\n",
            "5\n"
          ]
        }
      ]
    },
    {
      "cell_type": "markdown",
      "source": [
        "# **Set:**"
      ],
      "metadata": {
        "id": "43j5QR1qHWMm"
      }
    },
    {
      "cell_type": "markdown",
      "source": [
        "**Create a set named \"colors\" with three different colors and display its items using\n",
        "for loop.**"
      ],
      "metadata": {
        "id": "s5bVaEnQRbC-"
      }
    },
    {
      "cell_type": "code",
      "source": [
        "colors = {\"Blue\", \"Green\", \"Yellow\", \"White\", \"Red\"}\n",
        "\n",
        "for color in colors:\n",
        "  print(color)"
      ],
      "metadata": {
        "colab": {
          "base_uri": "https://localhost:8080/"
        },
        "id": "I_T6zQtpRfQg",
        "outputId": "194db606-4b26-46e5-9766-32ee5729bf05"
      },
      "execution_count": null,
      "outputs": [
        {
          "output_type": "stream",
          "name": "stdout",
          "text": [
            "White\n",
            "Red\n",
            "Blue\n",
            "Green\n",
            "Yellow\n"
          ]
        }
      ]
    },
    {
      "cell_type": "markdown",
      "source": [
        "# **Dictionary:**"
      ],
      "metadata": {
        "id": "Xj-HYSCYHbXJ"
      }
    },
    {
      "cell_type": "markdown",
      "source": [
        "**Create a dictionary named \"student\" with the following key-value pairs:\n",
        " \"name\" as the key and the student's name as the value.\n",
        " \"age\" as the key and the student's age as the value.\n",
        " \"grade\" as the key and the student's grade as the value.\n",
        " Iterate over the dictionary using the for loop and display its keys.\n",
        " Iterate over the dictionary using the for loop and display its values.**"
      ],
      "metadata": {
        "id": "4yMrFNWjR3P9"
      }
    },
    {
      "cell_type": "code",
      "source": [
        "student = {\"name\": \"John\", \"age\": 18, \"grade\": \"A\"}\n",
        "\n",
        "for s in student:\n",
        "  print(student[s])"
      ],
      "metadata": {
        "colab": {
          "base_uri": "https://localhost:8080/"
        },
        "id": "vShKiS5OR24w",
        "outputId": "cb0b8696-1758-451f-9413-9af29d321116"
      },
      "execution_count": null,
      "outputs": [
        {
          "output_type": "stream",
          "name": "stdout",
          "text": [
            "John\n",
            "18\n",
            "A\n"
          ]
        }
      ]
    },
    {
      "cell_type": "markdown",
      "source": [
        "# **MultiLine String:**"
      ],
      "metadata": {
        "id": "dhVA0O47HnIO"
      }
    },
    {
      "cell_type": "markdown",
      "source": [
        "**Create a multi-line string named \"poem\" with a short poem of your choice.**"
      ],
      "metadata": {
        "id": "sgOb-F82TXtG"
      }
    },
    {
      "cell_type": "code",
      "source": [
        "print('''Moonlight whispers on silent waves,\n",
        "Stars dance in the midnight sky,\n",
        "Nature's lullaby, a soothing embrace,\n",
        "Dreams bloom like flowers,\n",
        "Night's enchantment, a magical trance,\n",
        "In the quiet, love's chance.''')"
      ],
      "metadata": {
        "colab": {
          "base_uri": "https://localhost:8080/"
        },
        "id": "MjnSzsBFTchU",
        "outputId": "b075880e-bed7-453a-bd8c-918e05ca2b42"
      },
      "execution_count": null,
      "outputs": [
        {
          "output_type": "stream",
          "name": "stdout",
          "text": [
            "Moonlight whispers on silent waves,\n",
            "Stars dance in the midnight sky,\n",
            "Nature's lullaby, a soothing embrace,\n",
            "Dreams bloom like flowers,\n",
            "Night's enchantment, a magical trance,\n",
            "In the quiet, love's chance.\n"
          ]
        }
      ]
    },
    {
      "cell_type": "markdown",
      "source": [
        "# **If else Statement:**"
      ],
      "metadata": {
        "id": "bK59M4oKHws6"
      }
    },
    {
      "cell_type": "markdown",
      "source": [
        "**Write an if statement to check if the length of the \"fruits\" list is greater than 3. If it\n",
        "is, print \"You have many fruits!\".**"
      ],
      "metadata": {
        "id": "D_1uPI2ZTrud"
      }
    },
    {
      "cell_type": "code",
      "source": [
        "if len(fruits) > 3:\n",
        "  print(\"You have many fruits!\")"
      ],
      "metadata": {
        "colab": {
          "base_uri": "https://localhost:8080/"
        },
        "id": "UCkAeg9FTvDq",
        "outputId": "72622d51-300d-419c-837f-7cbcc24996a7"
      },
      "execution_count": null,
      "outputs": [
        {
          "output_type": "stream",
          "name": "stdout",
          "text": [
            "You have many fruits!\n"
          ]
        }
      ]
    },
    {
      "cell_type": "markdown",
      "source": [
        "**Create a program that takes a student's numerical grade as input and prints a\n",
        "corresponding letter grade. Use if-else statements to classify the grade into\n",
        "categories such as \"A,\" \"B,\" \"C,\" \"D,\" or \"F.\"**"
      ],
      "metadata": {
        "id": "XDrnvL6iUHqD"
      }
    },
    {
      "cell_type": "code",
      "source": [
        "student_grade = int(input(\"Enter the marks of student \"))\n",
        "\n",
        "if student_grade >= 90:\n",
        "    print(\"A\")\n",
        "elif student_grade >= 80 and student_grade < 90:\n",
        "    print(\"B\")\n",
        "elif student_grade >= 70 and student_grade < 80:\n",
        "    print(\"C\")\n",
        "elif student_grade >= 60 and student_grade < 70:\n",
        "    print(\"D\")\n",
        "else:\n",
        "  print(\"F\")"
      ],
      "metadata": {
        "id": "A_tGPePHUIX8"
      },
      "execution_count": null,
      "outputs": []
    },
    {
      "cell_type": "markdown",
      "source": [
        "**Create a program that takes a temperature in Celsius as input from user and\n",
        "classifies it into categories like \"Freezing,\" \"Cold,\" \"Moderate,\" \"Warm,\" or \"Hot.\"\n",
        "Use if-else statements to define the temperature ranges for each category.**"
      ],
      "metadata": {
        "id": "rMNiZ3sbZD3-"
      }
    },
    {
      "cell_type": "code",
      "source": [
        "temperature = int(input(\"Enter temperature in celsius \"))\n",
        "\n",
        "if temperature < -10:\n",
        "  print(\"Freezing.\")\n",
        "elif temperature > -10 and temperature < 0:\n",
        "  print(\"Cold.\")\n",
        "elif temperature > 0 and temperature < 20:\n",
        "  print(\"Moderate.\")\n",
        "elif temperature > 20 and temperature < 30:\n",
        "  print(\"Warm.\")\n",
        "elif temperature >= 30:\n",
        "  print(\"Hot\")"
      ],
      "metadata": {
        "id": "Y2TJL6XeZHoZ"
      },
      "execution_count": null,
      "outputs": []
    },
    {
      "cell_type": "markdown",
      "source": [
        "# **For Loop:**"
      ],
      "metadata": {
        "id": "K_ZLan-9H89o"
      }
    },
    {
      "cell_type": "code",
      "source": [
        "list = [\"panda\", \"koala\", \"cat\", \"fox\", \"dolphin\", \"chipmunk\"]\n",
        "\n",
        "for name in list:\n",
        "  print(name)\n"
      ],
      "metadata": {
        "id": "qm_3vCKxH8iH"
      },
      "execution_count": null,
      "outputs": []
    },
    {
      "cell_type": "code",
      "source": [
        "countries = {'Germany', 'America', 'Canada', 'Pakistan', 'China', 'Indonesia'}\n",
        "\n",
        "for name in countries:\n",
        "  print(name)"
      ],
      "metadata": {
        "id": "e5knf4xDLtsP"
      },
      "execution_count": null,
      "outputs": []
    },
    {
      "cell_type": "code",
      "source": [
        "student_detail = {\"Name\": \"John\", \"Id\" : \"3920\", \"Degree\":\"Computer Science\", \"University\":\"Harvard\" }\n",
        "\n",
        "for key, value in student_detail.items():\n",
        "  print(key, \": \", value)"
      ],
      "metadata": {
        "colab": {
          "base_uri": "https://localhost:8080/"
        },
        "id": "yp83UZymjHtW",
        "outputId": "f444ed4a-3ff3-4e68-aca1-e17fdf601e01"
      },
      "execution_count": null,
      "outputs": [
        {
          "output_type": "stream",
          "name": "stdout",
          "text": [
            "Name :  John\n",
            "Id :  3920\n",
            "Degree :  Computer Science\n",
            "University :  Harvard\n"
          ]
        }
      ]
    },
    {
      "cell_type": "code",
      "source": [
        "id_list = (212, 43, 780, 331, 147)\n",
        "\n",
        "for num in id_list:\n",
        "  print(\"Student id: \", num)"
      ],
      "metadata": {
        "id": "pXAt1KZIk-vT"
      },
      "execution_count": null,
      "outputs": []
    },
    {
      "cell_type": "code",
      "source": [
        "for number in range(40, 90):\n",
        "  if number % 2 == 0:\n",
        "    print(number)\n"
      ],
      "metadata": {
        "colab": {
          "base_uri": "https://localhost:8080/"
        },
        "id": "tbUBpjAmmRX-",
        "outputId": "f6008f19-d57e-41a3-bfed-d46d8741b8bb"
      },
      "execution_count": null,
      "outputs": [
        {
          "output_type": "stream",
          "name": "stdout",
          "text": [
            "40\n",
            "42\n",
            "44\n",
            "46\n",
            "48\n",
            "50\n",
            "52\n",
            "54\n",
            "56\n",
            "58\n",
            "60\n",
            "62\n",
            "64\n",
            "66\n",
            "68\n",
            "70\n",
            "72\n",
            "74\n",
            "76\n",
            "78\n",
            "80\n",
            "82\n",
            "84\n",
            "86\n",
            "88\n"
          ]
        }
      ]
    },
    {
      "cell_type": "markdown",
      "source": [
        "# **Nested For Loop:**"
      ],
      "metadata": {
        "id": "45-qmopLm3ob"
      }
    },
    {
      "cell_type": "code",
      "source": [
        "person_data = {\n",
        "    \"first name\": \"David\",\n",
        "    \"last name\": \"Malan\",\n",
        "    \"profession\": \"Computer Scientist\",\n",
        "    \"skills\": [\"Java\", \"Python\", \"C\", \"Web Develpment\", \"Artificial Intelligence\"],\n",
        "    \"country\": \"New York\",\n",
        "    \"address\": {\n",
        "        \"street\" : \"Main Street\",\n",
        "        \"zip_code\": \"04392\"\n",
        "    }\n",
        "}\n",
        "\n",
        "for key in person_data:\n",
        "  if key == \"skills\":\n",
        "    for skills in person_data[\"skills\"]:\n",
        "      print(skills)\n"
      ],
      "metadata": {
        "id": "C-2zlR8JmzVc"
      },
      "execution_count": null,
      "outputs": []
    },
    {
      "cell_type": "markdown",
      "source": [
        "#**For Else:**"
      ],
      "metadata": {
        "id": "fTz6eIhWtJA2"
      }
    },
    {
      "cell_type": "code",
      "source": [
        "for number in range(5, 16):\n",
        "  print(number)\n",
        "else:\n",
        "  print(\"The loop stop at \", number)"
      ],
      "metadata": {
        "colab": {
          "base_uri": "https://localhost:8080/"
        },
        "id": "9UWR2FZbtCVK",
        "outputId": "7460a5f8-28b5-4d6e-f4d1-16a78f32a187"
      },
      "execution_count": null,
      "outputs": [
        {
          "output_type": "stream",
          "name": "stdout",
          "text": [
            "5\n",
            "6\n",
            "7\n",
            "8\n",
            "9\n",
            "10\n",
            "11\n",
            "12\n",
            "13\n",
            "14\n",
            "15\n",
            "The loop stop at  15\n"
          ]
        }
      ]
    },
    {
      "cell_type": "markdown",
      "source": [
        "# **While Loop:**"
      ],
      "metadata": {
        "id": "cKQZmb4PtwTB"
      }
    },
    {
      "cell_type": "code",
      "source": [
        "number = 0\n",
        "sum = 0\n",
        "\n",
        "while number < 100:\n",
        "  sum = sum + number\n",
        "  if number == 99:\n",
        "    print(sum)\n",
        "  number += 1"
      ],
      "metadata": {
        "colab": {
          "base_uri": "https://localhost:8080/"
        },
        "id": "o8m3yeyjt27Q",
        "outputId": "ab23ad8f-2a55-4dee-c933-4fbb8b9544df"
      },
      "execution_count": null,
      "outputs": [
        {
          "output_type": "stream",
          "name": "stdout",
          "text": [
            "4950\n"
          ]
        }
      ]
    }
  ]
}